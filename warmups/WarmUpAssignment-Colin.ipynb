{
 "cells": [
  {
   "cell_type": "code",
   "execution_count": 22,
   "id": "672024ed",
   "metadata": {},
   "outputs": [
    {
     "name": "stdout",
     "output_type": "stream",
     "text": [
      "[3.00645386]\n"
     ]
    }
   ],
   "source": [
    "import numpy as np\n",
    "import random\n",
    "\n",
    "class myArm:\n",
    "    def __init__(self, u):\n",
    "        self.mean = u\n",
    "        \n",
    "    def reward(self):\n",
    "        rng = np.random.default_rng()\n",
    "        val = rng.standard_normal(1)\n",
    "        val += self.mean\n",
    "        return val\n",
    "\n",
    "\n",
    "if __name__ == \"__main__\":\n",
    "    test = myArm(3)\n",
    "    ten = []\n",
    "    for i in range(10000):\n",
    "        ten.append(test.reward())\n",
    "    avg = 0\n",
    "    for i in range(10000):\n",
    "        avg += ten[i]\n",
    "    avg /= 10000\n",
    "    #print(ten)\n",
    "    print(avg)\n"
   ]
  },
  {
   "cell_type": "code",
   "execution_count": null,
   "id": "4e16c957",
   "metadata": {
    "scrolled": true
   },
   "outputs": [
    {
     "ename": "",
     "evalue": "",
     "output_type": "error",
     "traceback": [
      "\u001b[1;31mJupyter cannot be started. Error attempting to locate Jupyter: Running cells with 'Python 3.9.6 64-bit' requires jupyter and notebook package.\n",
      "\u001b[1;31mRun the following command to install 'jupyter and notebook' into the Python environment. \n",
      "\u001b[1;31mCommand: 'python -m pip install jupyter notebook -U\n",
      "\u001b[1;31mor\n",
      "\u001b[1;31mconda install jupyter notebook -U'\n",
      "\u001b[1;31mClick <a href='https://aka.ms/installJupyterForVSCode'>here</a> for more info."
     ]
    }
   ],
   "source": [
    "class test:\n",
    "    def __init__(self):\n",
    "        pass\n",
    "        \n",
    "    def greedy(self):\n",
    "        ten_arms = []\n",
    "        total_rew = 0\n",
    "        max_rew = 0\n",
    "        max_ind = -1\n",
    "        #create list of 10 arms\n",
    "        for i in range(10):\n",
    "            curr = myArm(i)\n",
    "            ten_arms.append(curr)\n",
    "        #iterate through 10 arms, saving the value and index of the largest reward\n",
    "        for i in range(10):\n",
    "            rew = ten_arms[i].reward()\n",
    "            if rew > max_rew:\n",
    "                max_rew = rew\n",
    "                max_ind = i\n",
    "            total_rew += rew\n",
    "        #complete the rest of the 1000 tests\n",
    "        for i in range(1000):\n",
    "            rew = ten_arms[max_ind].reward()\n",
    "            total_rew += rew\n",
    "        \n",
    "        return total_rew\n",
    "    \n",
    "    def egreedy(self, e):\n",
    "        ten_arms = []\n",
    "        total_rew = 0\n",
    "        max_rew = 0\n",
    "        max_ind = -1\n",
    "        total_ind = 0\n",
    "        #create list of 10 arms\n",
    "        for i in range(10):\n",
    "            curr = myArm(i)\n",
    "            ten_arms.append(curr)\n",
    "        #find initial max arm\n",
    "        for i in range(10):\n",
    "            rew = ten_arms[i].reward()\n",
    "            if rew > max_rew:\n",
    "                max_rew = rew\n",
    "                max_ind = i\n",
    "            total_rew += rew\n",
    "        #complete the rest of the 1000 tests\n",
    "        for i in range(1000):\n",
    "            total_ind += max_ind\n",
    "            size = 1/e\n",
    "            rand = random.randrange(size+1)\n",
    "            if rand >= 1: \n",
    "                rew = ten_arms[max_ind].reward()\n",
    "                total_rew += rew\n",
    "            else:\n",
    "                ind = random.randrange(10)\n",
    "                rew = ten_arms[ind].reward()\n",
    "                total_rew += rew\n",
    "                if rew > max_rew:\n",
    "                    max_ind = ind\n",
    "                    max_rew = rew\n",
    "        return total_rew\n",
    "\n",
    "test_obj = test()\n",
    "avg_greedy = 0\n",
    "avg_egreedy = 0\n",
    "for i in range(1000):\n",
    "    greedy_test = test_obj.greedy()\n",
    "    egreedy_test = test_obj.egreedy(0.01)\n",
    "    avg_greedy += greedy_test\n",
    "    avg_egreedy += egreedy_test\n",
    "    \n",
    "avg_greedy /= 1000\n",
    "avg_egreedy /= 1000\n",
    "\n",
    "print(avg_greedy)\n",
    "print(avg_egreedy)"
   ]
  },
  {
   "cell_type": "code",
   "execution_count": null,
   "id": "2fc97fd4",
   "metadata": {},
   "outputs": [],
   "source": []
  },
  {
   "cell_type": "code",
   "execution_count": null,
   "id": "9845dd37",
   "metadata": {},
   "outputs": [],
   "source": []
  }
 ],
 "metadata": {
  "kernelspec": {
   "display_name": "Python 3.9.6 64-bit",
   "language": "python",
   "name": "python3"
  },
  "language_info": {
   "codemirror_mode": {
    "name": "ipython",
    "version": 3
   },
   "file_extension": ".py",
   "mimetype": "text/x-python",
   "name": "python",
   "nbconvert_exporter": "python",
   "pygments_lexer": "ipython3",
   "version": "3.9.6"
  },
  "vscode": {
   "interpreter": {
    "hash": "31f2aee4e71d21fbe5cf8b01ff0e069b9275f58929596ceb00d14d90e3e16cd6"
   }
  }
 },
 "nbformat": 4,
 "nbformat_minor": 5
}
